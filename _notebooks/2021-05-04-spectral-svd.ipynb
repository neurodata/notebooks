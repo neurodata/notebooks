{
 "cells": [
  {
   "cell_type": "markdown",
   "metadata": {},
   "source": [
    "# Comparing ASE/LSE with SVD/Spectral \n",
    "- badges: true\n",
    "- toc: true\n",
    "- comments: true\n",
    "- categories: [Ullah, graspologic]\n",
    "- hide: false\n",
    "- search_exclude: false\n",
    "- author: Kareef Ullah"
   ]
  },
  {
   "cell_type": "code",
   "execution_count": 1,
   "metadata": {},
   "outputs": [],
   "source": [
    "import numpy as np\n",
    "import timeit\n",
    "\n",
    "from scipy.sparse import csr_matrix\n",
    "from graspologic.inference import latent_position_test\n",
    "from graspologic.embed import AdjacencySpectralEmbed, LaplacianSpectralEmbed\n",
    "from graspologic.simulations import er_np, sbm, rdpg\n",
    "from graspologic.utils import symmetrize\n",
    "from graspologic.plot import heatmap, pairplot\n",
    "from graspologic.align import OrthogonalProcrustes\n",
    "\n",
    "from matplotlib import pyplot as plt\n",
    "import pandas as pd\n",
    "import seaborn as sns\n",
    "\n",
    "from sknetwork.data import erdos_renyi, painters, movie_actor\n",
    "from sknetwork.embedding import Spectral, SVD\n",
    "from sknetwork.visualization import svg_graph, svg_digraph, svg_bigraph\n",
    "from IPython.display import SVG"
   ]
  },
  {
   "cell_type": "markdown",
   "metadata": {},
   "source": [
    "# Simulation 1: ASE vs SVD (RDPG)\n",
    "\n",
    "1. n_verts = [100, 500, 1000, 10000]\n",
    "2. Generate an nx1 2D numpy array of latent positions of uniform distribution between 0.1 and 1\n",
    "3. Divide each column by the array by the column's frobenius norm\n",
    "4. Generate an RDPG from the 2D array\n",
    "5. Perform ASE (n_components=1, check LCC=false) and SVD (n_componnets=1) on the RDPG  \n",
    "6. Save the runtimes for each embedding method using the timeit.default_timer() method\n",
    "7. From the generated latent positions of ASE, divide each column by the column's frobenius norm\n",
    "8. Align the latent positions of ASE with the true latent positions using orthogonal procrustes\n",
    "9. Save the frobenius norm of the aligned difference (true @ Q - ASE)\n",
    "10. Repeat steps 7-9 using SVD instead of ASE\n",
    "11. Repeat steps 2-10 for 15 trials per n in n_verts\n",
    "12. Plot stripplots for times vs n_verts for ASE and SVD\n",
    "13. Plot stripplots for frobenius norms of aligned differece of true and embedding latent positions vs n_verts for ASE and SVD"
   ]
  },
  {
   "cell_type": "code",
   "execution_count": 2,
   "metadata": {},
   "outputs": [],
   "source": [
    "n_verts = [100, 500, 1000, 10000]\n",
    "total_verts = []\n",
    "time_ASE = []\n",
    "time_SVD = []\n",
    "norms_ASE = []\n",
    "norms_SVD = []"
   ]
  },
  {
   "cell_type": "code",
   "execution_count": 3,
   "metadata": {},
   "outputs": [],
   "source": [
    "for n in n_verts:\n",
    "    for _ in range(15):\n",
    "        \n",
    "        total_verts.append(n)\n",
    "        X = np.random.uniform(low=0.1, high=1, size=(n, 1))\n",
    "        norm = np.linalg.norm(X, axis=0)\n",
    "        X = X/norm\n",
    "        A = rdpg(X)\n",
    "        \n",
    "        #get time for running ASE\n",
    "        start_time = timeit.default_timer()\n",
    "        ase = AdjacencySpectralEmbed(n_components=1, check_lcc=False)\n",
    "        X1 = ase.fit_transform(A)\n",
    "        norm1 = np.linalg.norm(X1, axis=0)\n",
    "        X1 = X1/norm1\n",
    "        elapsed_ASE = timeit.default_timer() - start_time\n",
    "        time_ASE.append(elapsed_ASE)\n",
    "        \n",
    "        #get norm of X@Q-X1\n",
    "        aligner_OP1 = OrthogonalProcrustes()\n",
    "        X_prime_OP1 = aligner_OP1.fit_transform(X, X1)\n",
    "        Q1 = aligner_OP1.Q_\n",
    "        norm_ASE = np.linalg.norm(X@Q1-X1, ord='fro')\n",
    "        norms_ASE.append(norm_ASE)\n",
    "        \n",
    "        #get time for running SVD\n",
    "        start_time = timeit.default_timer()\n",
    "        svd = SVD(1)\n",
    "        X2 = svd.fit_transform(A)\n",
    "        norm2 = np.linalg.norm(X2, axis=0)\n",
    "        X2 = X2/norm2\n",
    "        elapsed_SVD = timeit.default_timer() - start_time\n",
    "        time_SVD.append(elapsed_SVD)\n",
    "        \n",
    "        #get norm of X@Q-X2\n",
    "        aligner_OP2 = OrthogonalProcrustes()\n",
    "        X_prime_OP2 = aligner_OP2.fit_transform(X, X2)\n",
    "        Q2 = aligner_OP2.Q_\n",
    "        norm_SVD = np.linalg.norm(X@Q2-X2, ord='fro')\n",
    "        norms_SVD.append(norm_SVD)"
   ]
  },
  {
   "cell_type": "markdown",
   "metadata": {},
   "source": [
    "Note: When using too few vertices (ex: n=10), get an error at the line X_prime_OP1 = aligner_OP1.fit_transform(X, X1): Input contains NaN, infinity or a value too large for dtype('float64'). When using too large vertices (ex: n=100000), kernel dies."
   ]
  },
  {
   "cell_type": "code",
   "execution_count": 4,
   "metadata": {},
   "outputs": [],
   "source": [
    "time_ASE_dict = {\"time_ASE\": time_ASE, \"n_verts\": total_verts}\n",
    "df_time_ASE = pd.DataFrame(data = time_ASE_dict)"
   ]
  },
  {
   "cell_type": "code",
   "execution_count": 5,
   "metadata": {},
   "outputs": [],
   "source": [
    "norms_ASE_dict = {\"norms_ASE\": norms_ASE, \"n_verts\": total_verts}\n",
    "df_norms_ASE = pd.DataFrame(data = norms_ASE_dict)"
   ]
  },
  {
   "cell_type": "code",
   "execution_count": 6,
   "metadata": {},
   "outputs": [],
   "source": [
    "time_SVD_dict = {\"time_SVD\": time_SVD, \"n_verts\": total_verts}\n",
    "df_time_SVD = pd.DataFrame(data = time_SVD_dict)"
   ]
  },
  {
   "cell_type": "code",
   "execution_count": 7,
   "metadata": {},
   "outputs": [],
   "source": [
    "norms_SVD_dict = {\"norms_SVD\": norms_SVD, \"n_verts\": total_verts}\n",
    "df_norms_SVD = pd.DataFrame(data = norms_SVD_dict)"
   ]
  },
  {
   "cell_type": "code",
   "execution_count": 8,
   "metadata": {},
   "outputs": [
    {
     "data": {
      "text/plain": [
       "Text(0.5, 1.0, 'Times vs n_verts')"
      ]
     },
     "execution_count": 8,
     "metadata": {},
     "output_type": "execute_result"
    },
    {
     "data": {
      "image/png": "[encoded data removed]",
      "text/plain": [
       "<Figure size 432x288 with 1 Axes>"
      ]
     },
     "metadata": {
      "needs_background": "light"
     },
     "output_type": "display_data"
    }
   ],
   "source": [
    "ax1 = sns.stripplot(data=df_time_ASE,\n",
    "    x=\"n_verts\",\n",
    "    y=\"time_ASE\",\n",
    "    jitter = 0.25,\n",
    "    alpha = 0.5,\n",
    "    size=5,\n",
    "    color='red'\n",
    ")\n",
    "\n",
    "ax2 = sns.stripplot(data=df_time_SVD,\n",
    "    x=\"n_verts\",\n",
    "    y=\"time_SVD\",\n",
    "    jitter = 0.25,\n",
    "    alpha = 0.5,\n",
    "    size=5,\n",
    "    color='blue'\n",
    ")\n",
    "ax1.set_yscale('log')\n",
    "plt.xticks(rotation='vertical')\n",
    "plt.ylabel('time')\n",
    "plt.title(\"Times vs n_verts\")\n",
    "\n",
    "#plt.savefig('RDPGtimeASESVD_vs_n_verts.png')"
   ]
  },
  {
   "cell_type": "code",
   "execution_count": 9,
   "metadata": {},
   "outputs": [
    {
     "data": {
      "text/plain": [
       "Text(0.5, 1.0, 'Frobenius norms vs n_verts')"
      ]
     },
     "execution_count": 9,
     "metadata": {},
     "output_type": "execute_result"
    },
    {
     "data": {
      "image/png": "[encoded data removed]",
      "text/plain": [
       "<Figure size 432x288 with 1 Axes>"
      ]
     },
     "metadata": {
      "needs_background": "light"
     },
     "output_type": "display_data"
    }
   ],
   "source": [
    "ax1 = sns.stripplot(data=df_norms_ASE,\n",
    "    x=\"n_verts\",\n",
    "    y=\"norms_ASE\",\n",
    "    jitter = 0.25,\n",
    "    alpha = 0.5,\n",
    "    size=5,\n",
    "    color='red'\n",
    ")\n",
    "\n",
    "ax2 = sns.stripplot(data=df_norms_SVD,\n",
    "    x=\"n_verts\",\n",
    "    y=\"norms_SVD\",\n",
    "    jitter = 0.25,\n",
    "    alpha = 0.5,\n",
    "    size=5,\n",
    "    color='blue'\n",
    ")\n",
    "ax1.set_yscale('log')\n",
    "plt.xticks(rotation='vertical')\n",
    "plt.ylabel('Frobenius norm')\n",
    "plt.title(\"Frobenius norms vs n_verts\")\n",
    "\n",
    "#plt.savefig('RDPGnormsASESVD_vs_n_verts.png')"
   ]
  },
  {
   "cell_type": "markdown",
   "metadata": {},
   "source": [
    "# Simulation 1.5: ASE vs SVD (csr_matrix)\n",
    "Same process as simulation 1 but sample a csr_matrix from the rdpg and apply embedding methods on the csr_matrix"
   ]
  },
  {
   "cell_type": "code",
   "execution_count": 36,
   "metadata": {},
   "outputs": [],
   "source": [
    "n_verts = [100, 500, 1000, 10000]\n",
    "total_verts = []\n",
    "time_ASE = []\n",
    "time_SVD = []\n",
    "norms_ASE = []\n",
    "norms_SVD = []"
   ]
  },
  {
   "cell_type": "code",
   "execution_count": 37,
   "metadata": {},
   "outputs": [],
   "source": [
    "for n in n_verts:\n",
    "    for _ in range(15):\n",
    "        \n",
    "        total_verts.append(n)\n",
    "        X = np.random.uniform(low=0.1, high=1, size=(n, 1))\n",
    "        norm = np.linalg.norm(X, axis=0)\n",
    "        X = X/norm\n",
    "        B = rdpg(X)\n",
    "        A = csr_matrix(B)\n",
    "        \n",
    "        #get time for running ASE\n",
    "        start_time = timeit.default_timer()\n",
    "        ase = AdjacencySpectralEmbed(n_components=1, check_lcc=False)\n",
    "        X1 = ase.fit_transform(A)\n",
    "        norm1 = np.linalg.norm(X1, axis=0)\n",
    "        X1 = X1/norm1\n",
    "        elapsed_ASE = timeit.default_timer() - start_time\n",
    "        time_ASE.append(elapsed_ASE)\n",
    "        \n",
    "        #get norm of X@Q-X1\n",
    "        aligner_OP1 = OrthogonalProcrustes()\n",
    "        X_prime_OP1 = aligner_OP1.fit_transform(X, X1)\n",
    "        Q1 = aligner_OP1.Q_\n",
    "        norm_ASE = np.linalg.norm(X@Q1-X1, ord='fro')\n",
    "        norms_ASE.append(norm_ASE)\n",
    "        \n",
    "        #get time for running SVD\n",
    "        start_time = timeit.default_timer()\n",
    "        svd = SVD(1)\n",
    "        X2 = svd.fit_transform(A)\n",
    "        norm2 = np.linalg.norm(X2, axis=0)\n",
    "        X2 = X2/norm2\n",
    "        elapsed_SVD = timeit.default_timer() - start_time\n",
    "        time_SVD.append(elapsed_SVD)\n",
    "        \n",
    "        #get norm of X@Q-X2\n",
    "        aligner_OP2 = OrthogonalProcrustes()\n",
    "        X_prime_OP2 = aligner_OP2.fit_transform(X, X2)\n",
    "        Q2 = aligner_OP2.Q_\n",
    "        norm_SVD = np.linalg.norm(X@Q2-X2, ord='fro')\n",
    "        norms_SVD.append(norm_SVD)"
   ]
  },
  {
   "cell_type": "code",
   "execution_count": 38,
   "metadata": {},
   "outputs": [],
   "source": [
    "time_ASE_dict = {\"time_ASE\": time_ASE, \"n_verts\": total_verts}\n",
    "df_time_ASE = pd.DataFrame(data = time_ASE_dict)"
   ]
  },
  {
   "cell_type": "code",
   "execution_count": 39,
   "metadata": {},
   "outputs": [],
   "source": [
    "norms_ASE_dict = {\"norms_ASE\": norms_ASE, \"n_verts\": total_verts}\n",
    "df_norms_ASE = pd.DataFrame(data = norms_ASE_dict)"
   ]
  },
  {
   "cell_type": "code",
   "execution_count": 40,
   "metadata": {},
   "outputs": [],
   "source": [
    "time_SVD_dict = {\"time_SVD\": time_SVD, \"n_verts\": total_verts}\n",
    "df_time_SVD = pd.DataFrame(data = time_SVD_dict)"
   ]
  },
  {
   "cell_type": "code",
   "execution_count": 41,
   "metadata": {},
   "outputs": [],
   "source": [
    "norms_SVD_dict = {\"norms_SVD\": norms_SVD, \"n_verts\": total_verts}\n",
    "df_norms_SVD = pd.DataFrame(data = norms_SVD_dict)"
   ]
  },
  {
   "cell_type": "code",
   "execution_count": 42,
   "metadata": {},
   "outputs": [
    {
     "data": {
      "text/plain": [
       "Text(0.5, 1.0, 'Times vs n_verts')"
      ]
     },
     "execution_count": 42,
     "metadata": {},
     "output_type": "execute_result"
    },
    {
     "data": {
      "image/png": "[encoded data removed]",
      "text/plain": [
       "<Figure size 432x288 with 1 Axes>"
      ]
     },
     "metadata": {
      "needs_background": "light"
     },
     "output_type": "display_data"
    }
   ],
   "source": [
    "ax1 = sns.stripplot(data=df_time_ASE,\n",
    "    x=\"n_verts\",\n",
    "    y=\"time_ASE\",\n",
    "    jitter = 0.25,\n",
    "    alpha = 0.5,\n",
    "    size=5,\n",
    "    color='red'\n",
    ")\n",
    "\n",
    "ax2 = sns.stripplot(data=df_time_SVD,\n",
    "    x=\"n_verts\",\n",
    "    y=\"time_SVD\",\n",
    "    jitter = 0.25,\n",
    "    alpha = 0.5,\n",
    "    size=5,\n",
    "    color='blue'\n",
    ")\n",
    "ax1.set_yscale('log')\n",
    "plt.xticks(rotation='vertical')\n",
    "plt.ylabel('time')\n",
    "plt.title(\"Times vs n_verts\")\n",
    "\n",
    "#plt.savefig('csrtimeASESVD_vs_n_verts.png')"
   ]
  },
  {
   "cell_type": "code",
   "execution_count": 43,
   "metadata": {},
   "outputs": [
    {
     "data": {
      "text/plain": [
       "Text(0.5, 1.0, 'Frobenius norms vs n_verts')"
      ]
     },
     "execution_count": 43,
     "metadata": {},
     "output_type": "execute_result"
    },
    {
     "data": {
      "image/png": "[encoded data removed]",
      "text/plain": [
       "<Figure size 432x288 with 1 Axes>"
      ]
     },
     "metadata": {
      "needs_background": "light"
     },
     "output_type": "display_data"
    }
   ],
   "source": [
    "ax1 = sns.stripplot(data=df_norms_ASE,\n",
    "    x=\"n_verts\",\n",
    "    y=\"norms_ASE\",\n",
    "    jitter = 0.25,\n",
    "    alpha = 0.5,\n",
    "    size=5,\n",
    "    color='red'\n",
    ")\n",
    "\n",
    "ax2 = sns.stripplot(data=df_norms_SVD,\n",
    "    x=\"n_verts\",\n",
    "    y=\"norms_SVD\",\n",
    "    jitter = 0.25,\n",
    "    alpha = 0.5,\n",
    "    size=5,\n",
    "    color='blue'\n",
    ")\n",
    "ax1.set_yscale('log')\n",
    "plt.xticks(rotation='vertical')\n",
    "plt.ylabel('Frobenius norm')\n",
    "plt.title(\"Frobenius norms vs n_verts\")\n",
    "\n",
    "#plt.savefig('csrnormsASESVD_vs_n_verts.png')"
   ]
  },
  {
   "cell_type": "markdown",
   "metadata": {},
   "source": [
    "# Simulation 2: LSE vs Spectral (RDPG)\n",
    "\n",
    "1. n_verts = [100, 500, 1000, 10000]\n",
    "2. Generate an nx1 2D numpy array of latent positions of uniform distribution between 0.1 and 1\n",
    "3. Divide each column by the array by the column's frobenius norm\n",
    "4. Generate an RDPG from the 2D array\n",
    "5. Perform LSE (n_components=1, check LCC=false) and Specral (n_components=1) on the RDPG\n",
    "6. Save the runtimes for each embedding method using the timeit.default_timer() method\n",
    "7. From the generated latent positions of LSE, divide each column by the column's frobenius norm\n",
    "8. Align the latent positions of LSE with the true latent positions using orthogonal procrustes\n",
    "9. Save the frobenius norm of the aligned difference (true @ Q - LSE)\n",
    "10. Repeat steps 7-9 using Spectral instead of LSE\n",
    "11. Repeat steps 2-10 for 15 trials per n in n_verts\n",
    "12. Plot stripplots for times vs n_verts for LSE and Spectral\n",
    "13. Plot stripplots for frobenius norms of aligned differece of true and embedding latent positions vs n_verts for LSE and Spectral"
   ]
  },
  {
   "cell_type": "code",
   "execution_count": 20,
   "metadata": {},
   "outputs": [],
   "source": [
    "n_verts = [100, 500, 1000, 10000]\n",
    "total_verts = []\n",
    "time_LSE = []\n",
    "time_Spectral = []\n",
    "norms_LSE = []\n",
    "norms_Spectral = []"
   ]
  },
  {
   "cell_type": "code",
   "execution_count": 21,
   "metadata": {},
   "outputs": [],
   "source": [
    "for n in n_verts:\n",
    "    for _ in range(15):\n",
    "        \n",
    "        total_verts.append(n)\n",
    "        X = np.random.uniform(low=0.1, high=1, size=(n, 1))\n",
    "        norm = np.linalg.norm(X, axis=0)\n",
    "        X = X/norm\n",
    "        A = rdpg(X)\n",
    "        \n",
    "        #get time for running LSE\n",
    "        start_time = timeit.default_timer()\n",
    "        lse = LaplacianSpectralEmbed(n_components=1, check_lcc=False)\n",
    "        X1 = lse.fit_transform(A)\n",
    "        norm1 = np.linalg.norm(X1, axis=0)\n",
    "        X1 = X1/norm1\n",
    "        elapsed_LSE = timeit.default_timer() - start_time\n",
    "        time_LSE.append(elapsed_LSE)\n",
    "        \n",
    "        #get norm of X@Q-X1\n",
    "        aligner_OP1 = OrthogonalProcrustes()\n",
    "        X_prime_OP1 = aligner_OP1.fit_transform(X, X1)\n",
    "        Q1 = aligner_OP1.Q_\n",
    "        norm_LSE = np.linalg.norm(X@Q1-X1, ord='fro')\n",
    "        norms_LSE.append(norm_LSE)\n",
    "        \n",
    "        #get time for running Spectral\n",
    "        start_time = timeit.default_timer()\n",
    "        spectral = Spectral(1)\n",
    "        X2 = spectral.fit_transform(A)\n",
    "        norm2 = np.linalg.norm(X2, axis=0)\n",
    "        X2 = X2/norm1\n",
    "        elapsed_Spectral = timeit.default_timer() - start_time\n",
    "        time_Spectral.append(elapsed_Spectral)\n",
    "        \n",
    "        #get norm of X@Q-X2\n",
    "        aligner_OP2 = OrthogonalProcrustes()\n",
    "        X_prime_OP2 = aligner_OP2.fit_transform(X, X2)\n",
    "        Q2 = aligner_OP2.Q_\n",
    "        norm_Spectral = np.linalg.norm(X@Q2-X2, ord='fro')\n",
    "        norms_Spectral.append(norm_LSE)"
   ]
  },
  {
   "cell_type": "markdown",
   "metadata": {},
   "source": [
    "Note: After 5th iteration of n=10000, error at line X2 = spectral.fit_transform(A): ArpackNoConvergence: ARPACK error -1: No convergence (100001 iterations, 1/2 eigenvectors converged)"
   ]
  },
  {
   "cell_type": "code",
   "execution_count": 22,
   "metadata": {},
   "outputs": [],
   "source": [
    "time_LSE_dict = {\"time_LSE\": time_LSE, \"n_verts\": total_verts}\n",
    "df_time_LSE = pd.DataFrame(data = time_LSE_dict)"
   ]
  },
  {
   "cell_type": "code",
   "execution_count": 23,
   "metadata": {},
   "outputs": [],
   "source": [
    "norms_LSE_dict = {\"norms_LSE\": norms_LSE, \"n_verts\": total_verts}\n",
    "df_norms_LSE = pd.DataFrame(data = norms_LSE_dict)"
   ]
  },
  {
   "cell_type": "code",
   "execution_count": 24,
   "metadata": {},
   "outputs": [],
   "source": [
    "time_Spectral_dict = {\"time_Spectral\": time_Spectral, \"n_verts\": total_verts}\n",
    "df_time_Spectral = pd.DataFrame(data = time_Spectral_dict)"
   ]
  },
  {
   "cell_type": "code",
   "execution_count": 25,
   "metadata": {},
   "outputs": [],
   "source": [
    "norms_Spectral_dict = {\"norms_Spectral\": norms_Spectral, \"n_verts\": total_verts}\n",
    "df_norms_Spectral = pd.DataFrame(data = norms_Spectral_dict)"
   ]
  },
  {
   "cell_type": "code",
   "execution_count": 26,
   "metadata": {},
   "outputs": [
    {
     "data": {
      "text/plain": [
       "Text(0.5, 1.0, 'Times vs n_verts')"
      ]
     },
     "execution_count": 26,
     "metadata": {},
     "output_type": "execute_result"
    },
    {
     "data": {
      "image/png": "[encoded data removed]",
      "text/plain": [
       "<Figure size 432x288 with 1 Axes>"
      ]
     },
     "metadata": {
      "needs_background": "light"
     },
     "output_type": "display_data"
    }
   ],
   "source": [
    "ax1 = sns.stripplot(data=df_time_LSE,\n",
    "    x=\"n_verts\",\n",
    "    y=\"time_LSE\",\n",
    "    jitter = 0.25,\n",
    "    alpha = 0.5,\n",
    "    size=5,\n",
    "    color='red'\n",
    ")\n",
    "\n",
    "ax2 = sns.stripplot(data=df_time_Spectral,\n",
    "    x=\"n_verts\",\n",
    "    y=\"time_Spectral\",\n",
    "    jitter = 0.25,\n",
    "    alpha = 0.5,\n",
    "    size=5,\n",
    "    color='blue'\n",
    ")\n",
    "ax1.set_yscale('log')\n",
    "plt.xticks(rotation='vertical')\n",
    "plt.ylabel('time')\n",
    "plt.title(\"Times vs n_verts\")\n",
    "\n",
    "#plt.savefig('RDPGtimeLSESpectral_vs_n_verts.png')"
   ]
  },
  {
   "cell_type": "code",
   "execution_count": 27,
   "metadata": {},
   "outputs": [
    {
     "data": {
      "text/plain": [
       "Text(0.5, 1.0, 'Frobenius norms vs n_verts')"
      ]
     },
     "execution_count": 27,
     "metadata": {},
     "output_type": "execute_result"
    },
    {
     "data": {
      "image/png": "[encoded data removed]",
      "text/plain": [
       "<Figure size 432x288 with 1 Axes>"
      ]
     },
     "metadata": {
      "needs_background": "light"
     },
     "output_type": "display_data"
    }
   ],
   "source": [
    "ax1 = sns.stripplot(data=df_norms_LSE,\n",
    "    x=\"n_verts\",\n",
    "    y=\"norms_LSE\",\n",
    "    jitter = 0.25,\n",
    "    alpha = 0.5,\n",
    "    size=5,\n",
    "    color='red'\n",
    ")\n",
    "\n",
    "ax2 = sns.stripplot(data=df_norms_Spectral,\n",
    "    x=\"n_verts\",\n",
    "    y=\"norms_Spectral\",\n",
    "    jitter = 0.25,\n",
    "    alpha = 0.5,\n",
    "    size=5,\n",
    "    color='blue'\n",
    ")\n",
    "ax1.set_yscale('log')\n",
    "plt.xticks(rotation='vertical')\n",
    "plt.ylabel('Frobenius norm')\n",
    "plt.title(\"Frobenius norms vs n_verts\")\n",
    "\n",
    "#plt.savefig('RDPGnormsLSESpectral_vs_n_verts.png')"
   ]
  },
  {
   "cell_type": "markdown",
   "metadata": {},
   "source": [
    "# Simulation 2.5: LSE vs Spectral (csr_matrix)\n",
    "Same process as simulation 2 but sample a csr_matrix from the rdpg and apply embedding methods on the csr_matrix"
   ]
  },
  {
   "cell_type": "code",
   "execution_count": 28,
   "metadata": {},
   "outputs": [],
   "source": [
    "n_verts = [10, 100, 500, 1000]\n",
    "total_verts = []\n",
    "time_LSE = []\n",
    "time_Spectral = []\n",
    "norms_LSE = []\n",
    "norms_Spectral = []"
   ]
  },
  {
   "cell_type": "code",
   "execution_count": 29,
   "metadata": {},
   "outputs": [],
   "source": [
    "for n in n_verts:\n",
    "    for _ in range(15):\n",
    "        \n",
    "        total_verts.append(n)\n",
    "        X = np.random.uniform(low=0.1, high=1, size=(n, 1))\n",
    "        norm = np.linalg.norm(X, axis=0)\n",
    "        X = X/norm\n",
    "        B = rdpg(X)\n",
    "        A = csr_matrix(B)\n",
    "        \n",
    "        #get time for running LSE\n",
    "        start_time = timeit.default_timer()\n",
    "        lse = LaplacianSpectralEmbed(n_components=1, check_lcc=False)\n",
    "        X1 = lse.fit_transform(A)\n",
    "        norm1 = np.linalg.norm(X1, axis=0)\n",
    "        X1 = X1/norm1\n",
    "        elapsed_LSE = timeit.default_timer() - start_time\n",
    "        time_LSE.append(elapsed_LSE)\n",
    "        \n",
    "        #get norm of X@Q-X1\n",
    "        aligner_OP1 = OrthogonalProcrustes()\n",
    "        X_prime_OP1 = aligner_OP1.fit_transform(X, X1)\n",
    "        Q1 = aligner_OP1.Q_\n",
    "        norm_LSE = np.linalg.norm(X@Q1-X1, ord='fro')\n",
    "        norms_LSE.append(norm_LSE)\n",
    "        \n",
    "        #get time for running Spectral\n",
    "        start_time = timeit.default_timer()\n",
    "        spectral = Spectral(1)\n",
    "        X2 = spectral.fit_transform(A)\n",
    "        norm2 = np.linalg.norm(X2, axis=0)\n",
    "        X2 = X2/norm1\n",
    "        elapsed_Spectral = timeit.default_timer() - start_time\n",
    "        time_Spectral.append(elapsed_Spectral)\n",
    "        \n",
    "        #get norm of X@Q-X2\n",
    "        aligner_OP2 = OrthogonalProcrustes()\n",
    "        X_prime_OP2 = aligner_OP2.fit_transform(X, X2)\n",
    "        Q2 = aligner_OP2.Q_\n",
    "        norm_Spectral = np.linalg.norm(X@Q2-X2, ord='fro')\n",
    "        norms_Spectral.append(norm_LSE)"
   ]
  },
  {
   "cell_type": "code",
   "execution_count": 30,
   "metadata": {},
   "outputs": [],
   "source": [
    "time_LSE_dict = {\"time_LSE\": time_LSE, \"n_verts\": total_verts}\n",
    "df_time_LSE = pd.DataFrame(data = time_LSE_dict)"
   ]
  },
  {
   "cell_type": "code",
   "execution_count": 31,
   "metadata": {},
   "outputs": [],
   "source": [
    "norms_LSE_dict = {\"norms_LSE\": norms_LSE, \"n_verts\": total_verts}\n",
    "df_norms_LSE = pd.DataFrame(data = norms_LSE_dict)"
   ]
  },
  {
   "cell_type": "code",
   "execution_count": 32,
   "metadata": {},
   "outputs": [],
   "source": [
    "time_Spectral_dict = {\"time_Spectral\": time_Spectral, \"n_verts\": total_verts}\n",
    "df_time_Spectral = pd.DataFrame(data = time_Spectral_dict)"
   ]
  },
  {
   "cell_type": "code",
   "execution_count": 33,
   "metadata": {},
   "outputs": [],
   "source": [
    "norms_Spectral_dict = {\"norms_Spectral\": norms_Spectral, \"n_verts\": total_verts}\n",
    "df_norms_Spectral = pd.DataFrame(data = norms_Spectral_dict)"
   ]
  },
  {
   "cell_type": "code",
   "execution_count": 34,
   "metadata": {},
   "outputs": [
    {
     "data": {
      "text/plain": [
       "Text(0.5, 1.0, 'Times vs n_verts')"
      ]
     },
     "execution_count": 34,
     "metadata": {},
     "output_type": "execute_result"
    },
    {
     "data": {
      "image/png": "[encoded data removed]",
      "text/plain": [
       "<Figure size 432x288 with 1 Axes>"
      ]
     },
     "metadata": {
      "needs_background": "light"
     },
     "output_type": "display_data"
    }
   ],
   "source": [
    "ax1 = sns.stripplot(data=df_time_LSE,\n",
    "    x=\"n_verts\",\n",
    "    y=\"time_LSE\",\n",
    "    jitter = 0.25,\n",
    "    alpha = 0.5,\n",
    "    size=5,\n",
    "    color='red'\n",
    ")\n",
    "\n",
    "ax2 = sns.stripplot(data=df_time_Spectral,\n",
    "    x=\"n_verts\",\n",
    "    y=\"time_Spectral\",\n",
    "    jitter = 0.25,\n",
    "    alpha = 0.5,\n",
    "    size=5,\n",
    "    color='blue'\n",
    ")\n",
    "ax1.set_yscale('log')\n",
    "plt.xticks(rotation='vertical')\n",
    "plt.ylabel('time')\n",
    "plt.title(\"Times vs n_verts\")\n",
    "\n",
    "#plt.savefig('csrtimeLSESpectral_vs_n_verts.png')"
   ]
  },
  {
   "cell_type": "code",
   "execution_count": 35,
   "metadata": {},
   "outputs": [
    {
     "data": {
      "text/plain": [
       "Text(0.5, 1.0, 'Frobenius norms vs n_verts')"
      ]
     },
     "execution_count": 35,
     "metadata": {},
     "output_type": "execute_result"
    },
    {
     "data": {
      "image/png": "[encoded data removed]",
      "text/plain": [
       "<Figure size 432x288 with 1 Axes>"
      ]
     },
     "metadata": {
      "needs_background": "light"
     },
     "output_type": "display_data"
    }
   ],
   "source": [
    "ax1 = sns.stripplot(data=df_norms_LSE,\n",
    "    x=\"n_verts\",\n",
    "    y=\"norms_LSE\",\n",
    "    jitter = 0.25,\n",
    "    alpha = 0.5,\n",
    "    size=5,\n",
    "    color='red'\n",
    ")\n",
    "\n",
    "ax2 = sns.stripplot(data=df_norms_Spectral,\n",
    "    x=\"n_verts\",\n",
    "    y=\"norms_Spectral\",\n",
    "    jitter = 0.25,\n",
    "    alpha = 0.5,\n",
    "    size=5,\n",
    "    color='blue'\n",
    ")\n",
    "ax1.set_yscale('log')\n",
    "plt.xticks(rotation='vertical')\n",
    "plt.ylabel('Frobenius norm')\n",
    "plt.title(\"Frobenius norms vs n_verts\")\n",
    "\n",
    "#plt.savefig('csrnormsLSESpectral_vs_n_verts.png')"
   ]
  },
  {
   "cell_type": "code",
   "execution_count": null,
   "metadata": {},
   "outputs": [],
   "source": []
  }
 ],
 "metadata": {
  "kernelspec": {
   "display_name": "Python 3",
   "language": "python",
   "name": "python3"
  },
  "language_info": {
   "codemirror_mode": {
    "name": "ipython",
    "version": 3
   },
   "file_extension": ".py",
   "mimetype": "text/x-python",
   "name": "python",
   "nbconvert_exporter": "python",
   "pygments_lexer": "ipython3",
   "version": "3.8.4"
  }
 },
 "nbformat": 4,
 "nbformat_minor": 4
}
